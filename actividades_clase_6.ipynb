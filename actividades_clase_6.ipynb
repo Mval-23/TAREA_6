{
 "cells": [
  {
   "cell_type": "markdown",
   "metadata": {},
   "source": [
    "1. Calculadora de IMC (Índice de Masa Corporal):\n",
    "Cree una función que calcule el IMC (Índice de Masa Corporal) de una persona a partir de su peso y altura.\n",
    "La función debe recibir como parámetros el peso (en kg) y la altura (en cm) y devolver el valor del IMC.\n",
    "\n",
    "Opcional: Implemente una segunda función que clasifique el IMC según los estándares de la OMS:\n",
    "\n",
    "•\tBajo peso: IMC < 18.5\n",
    "•\tPeso normal: 18.5 <= IMC < 25\n",
    "•\tSobrepeso: 25 <= IMC < 30\n",
    "•\tObesidad: IMC >= 30\n"
   ]
  },
  {
   "cell_type": "code",
   "execution_count": 19,
   "metadata": {},
   "outputs": [],
   "source": [
    "def calcular_IMC(peso, altura): \n",
    "    altura_metros = altura / 100 \n",
    "    imc = peso / (altura_metros ** 2) \n",
    "    return imc"
   ]
  },
  {
   "cell_type": "code",
   "execution_count": 20,
   "metadata": {},
   "outputs": [
    {
     "name": "stdout",
     "output_type": "stream",
     "text": [
      "Su IMC es 27.06. Usted tiene sobrepeso.\n"
     ]
    }
   ],
   "source": [
    "peso = float(input(\"Ingrese su peso en kg: \")) \n",
    "altura = float(input(\"Ingrese su altura en cm: \")) \n",
    "resultado = calcular_IMC(peso, altura)\n",
    "\n",
    "if resultado < 18.5: \n",
    "    print(f\"Su IMC es {resultado:.2f}. Usted tiene bajo peso.\") \n",
    "elif resultado >= 18.5 and resultado < 25: \n",
    "    print(f\"Su IMC es {resultado:.2f}. Usted tiene un peso saludable.\") \n",
    "elif resultado >= 25 and resultado < 30: \n",
    "    print(f\"Su IMC es {resultado:.2f}. Usted tiene sobrepeso.\") \n",
    "else: print(f\"Su IMC es {resultado:.2f}. Usted tiene obesidad.\")\n",
    "\n"
   ]
  },
  {
   "cell_type": "markdown",
   "metadata": {},
   "source": [
    "2. Analizador de números:\n",
    "Cree una función que reciba un número entero como parámetro y devuelva un diccionario con la siguiente información:\n",
    "\n",
    "•\tSi el número es par o impar\n",
    "\n",
    "•\tSi el número es positivo, negativo o cero\n",
    "\n",
    "•\tSi el número es divisible por 3\n",
    "\n",
    "•\tSi el número es divisible por 5\n",
    "\n",
    "•\tSi el número es divisible por 3 y por 5.\n",
    "\n",
    "Opcional: Implemente la función utilizando una función lambda para cada una de las verificaciones.\n"
   ]
  },
  {
   "cell_type": "code",
   "execution_count": 7,
   "metadata": {},
   "outputs": [
    {
     "name": "stdout",
     "output_type": "stream",
     "text": [
      "{'par_o_impar': 'Par', 'positivo_negativo_o_cero': 'Positivo', 'divisible_por_3': 'No', 'divisible_por_5': 'No', 'divisible_por_3_y_5': 'No'}\n"
     ]
    }
   ],
   "source": [
    "def analizar_numero(numero):\n",
    "    resultados = {\n",
    "        'par_o_impar': (lambda num: 'Par' if num % 2 == 0 else 'Impar')(numero),\n",
    "        'positivo_negativo_o_cero': (lambda num: 'Cero' if num == 0 else 'Positivo' if num > 0 else 'Negativo')(numero),\n",
    "        'divisible_por_3': (lambda num: 'Sí' if num % 3 == 0 else 'No')(numero),\n",
    "        'divisible_por_5': (lambda num: 'Sí' if num % 5 == 0 else 'No')(numero),\n",
    "        'divisible_por_3_y_5': (lambda num: 'Sí' if num % 3 == 0 and num % 5 == 0 else 'No')(numero)\n",
    "    }\n",
    "    \n",
    "    return resultados\n",
    "\n",
    "# Ejemplo de uso de la función\n",
    "numero = int(input(\"Ingrese un número entero: \"))\n",
    "resultado = analizar_numero(numero)\n",
    "print(resultado)\n",
    "\n"
   ]
  },
  {
   "cell_type": "markdown",
   "metadata": {},
   "source": [
    "3. Calculadora de área y perímetro de figuras geométricas:\n",
    "Cree funciones para calcular el área y perímetro de las siguientes figuras geométricas:\n",
    "\n",
    "Cada función debe recibir las dimensiones necesarias como parámetros y devolver el valor correspondiente del área o perímetro."
   ]
  },
  {
   "cell_type": "markdown",
   "metadata": {},
   "source": [
    "a)\tCuadrado"
   ]
  },
  {
   "cell_type": "code",
   "execution_count": 15,
   "metadata": {},
   "outputs": [
    {
     "name": "stdout",
     "output_type": "stream",
     "text": [
      "Cuadrado - Lado: 8 \n",
      " Área: 64 \n",
      " Perímetro: 32\n"
     ]
    }
   ],
   "source": [
    "def calcular_area_perimetro_cuadrado(lado):\n",
    "    area = lado ** 2\n",
    "    perimetro = lado * 4\n",
    "    return area, perimetro\n",
    "\n",
    "lado = 8\n",
    "area, perimetro = calcular_area_perimetro_cuadrado(lado)\n",
    "\n",
    "print(f\"Cuadrado - Lado: {lado} \\n Área: {area} \\n Perímetro: {perimetro}\")"
   ]
  },
  {
   "cell_type": "markdown",
   "metadata": {},
   "source": [
    "b) Triángulo (equilátero, rectángulo e isósceles)\n",
    "\n",
    "Formulas para tener en cuenta \n",
    "pitagoras = hipotenusa^2= cateto1^2+cateto2^2\n",
    "\n",
    "- Area equilatero= (base*altura)/2\n",
    "tiene los 3 lados iguales\n",
    "Usando  Pitágoras: altura = (3/4)^(1/2)*lado\n",
    "Entonces area equilatero=(3/4)^(1/2)* lado^2\n",
    "\n",
    "- area isósceles (base*altura)/2\n",
    "con Pitágoras altura=[lado^2-(base/2)^2](1/2)\n",
    "\n",
    "- area escaleno (base/altura)/2\n",
    "como el triangulo tiene los 3 lados desiguales,\n",
    "considero el semiperímetro = (a+b+c)/2 y \n",
    "utilizo la fórmula de Herón:\n",
    "area = [(semiperímetro*(semiperímetro-a)*(semiperímetro-b)*(semiperímetro-c)](1/2)\n"
   ]
  },
  {
   "cell_type": "code",
   "execution_count": 22,
   "metadata": {},
   "outputs": [
    {
     "name": "stdout",
     "output_type": "stream",
     "text": [
      "El área del triángulo equilátero con lado 5 es: 10.825317547305483\n",
      "El perímetro del triángulo equilátero con lado 5 es: 15\n"
     ]
    }
   ],
   "source": [
    "#Triángulo equilátero\n",
    "import math\n",
    "\n",
    "def area_trianguo_equilatero(lado):\n",
    "    return (math.sqrt(3) / 4) * lado ** 2\n",
    "\n",
    "def perimetro_triangulo_equilatero(lado):\n",
    "    return 3 * lado\n",
    "\n",
    "# Ejemplo de uso\n",
    "lado = 5\n",
    "print(\"El área del triángulo equilátero con lado {} es: {}\".format(lado, area_trianguo_equilatero(lado)))\n",
    "print(\"El perímetro del triángulo equilátero con lado {} es: {}\".format(lado, perimetro_triangulo_equilatero(lado)))"
   ]
  },
  {
   "cell_type": "code",
   "execution_count": 23,
   "metadata": {},
   "outputs": [
    {
     "name": "stdout",
     "output_type": "stream",
     "text": [
      "El área del triángulo isósceles con base 6 y lado 5 es: 12.0\n",
      "El perímetro del triángulo isósceles con base 6 y lado 5 es: 16\n"
     ]
    }
   ],
   "source": [
    "#Triángulo isósceles\n",
    "def area_triangulo_isosceles(base, lado):\n",
    "    altura = math.sqrt(lado ** 2 - (base / 2) ** 2)\n",
    "    return (base * altura) / 2\n",
    "\n",
    "def perimetro_triangulo_isosceles(base, lado):\n",
    "    return base + 2 * lado\n",
    "\n",
    "# Ejemplo de uso\n",
    "base = 6\n",
    "lado = 5\n",
    "print(\"El área del triángulo isósceles con base {} y lado {} es: {}\".format(base, lado, area_triangulo_isosceles(base, lado)))\n",
    "print(\"El perímetro del triángulo isósceles con base {} y lado {} es: {}\".format(base, lado, perimetro_triangulo_isosceles(base, lado)))"
   ]
  },
  {
   "cell_type": "code",
   "execution_count": 24,
   "metadata": {},
   "outputs": [
    {
     "name": "stdout",
     "output_type": "stream",
     "text": [
      "El área del triángulo rectángulo con base 3 y altura 4 es: 6.0\n",
      "El perímetro del triángulo rectángulo con base 3, altura 4 y hipotenusa 5.0 es: 12.0\n"
     ]
    }
   ],
   "source": [
    "#Triángulo rectángulo\n",
    "def area_triangulo_rectangulo(base, altura):\n",
    "    area = (base * altura) / 2\n",
    "    return area\n",
    "\n",
    "def perimetro_triangulo_rectangulo(base, altura, hipotenusa):\n",
    "    perimetro = base + altura + hipotenusa\n",
    "    return perimetro\n",
    "\n",
    "# Ejemplo de uso\n",
    "base = 3\n",
    "altura = 4\n",
    "hipotenusa = math.sqrt(base**2 + altura**2)\n",
    "\n",
    "print(\"El área del triángulo rectángulo con base {} y altura {} es: {}\".format(base, altura, area_triangulo_rectangulo(base, altura)))\n",
    "print(\"El perímetro del triángulo rectángulo con base {}, altura {} y hipotenusa {} es: {}\".format(base, altura, hipotenusa, perimetro_triangulo_rectangulo(base, altura, hipotenusa)))"
   ]
  },
  {
   "cell_type": "markdown",
   "metadata": {},
   "source": [
    "c) Círculo\n",
    "Fórmulas a tener en cuenta:\n",
    "area circulo= pi*radio^2\n",
    "perímetro=2*pi*radio"
   ]
  },
  {
   "cell_type": "code",
   "execution_count": 25,
   "metadata": {},
   "outputs": [
    {
     "name": "stdout",
     "output_type": "stream",
     "text": [
      "El área del círculo con radio 5 es: 78.53981633974483\n",
      "El perímetro del círculo con radio 5 es: 31.41592653589793\n"
     ]
    }
   ],
   "source": [
    "import math\n",
    "\n",
    "def area_circulo(radio):\n",
    "    area = math.pi * radio**2\n",
    "    return area\n",
    "\n",
    "def perimetro_circulo(radio):\n",
    "    perimetro = 2 * math.pi * radio\n",
    "    return perimetro\n",
    "\n",
    "# Ejemplo de uso\n",
    "radio = 5\n",
    "\n",
    "print(\"El área del círculo con radio {} es: {}\".format(radio, area_circulo(radio)))\n",
    "print(\"El perímetro del círculo con radio {} es: {}\".format(radio, perimetro_circulo(radio)))"
   ]
  },
  {
   "cell_type": "markdown",
   "metadata": {},
   "source": [
    "d) Rectángulo\n"
   ]
  },
  {
   "cell_type": "code",
   "execution_count": 26,
   "metadata": {},
   "outputs": [
    {
     "name": "stdout",
     "output_type": "stream",
     "text": [
      "El área del rectángulo con base 6 y altura 4 es: 24\n",
      "El perímetro del rectángulo con base 6 y altura 4 es: 20\n"
     ]
    }
   ],
   "source": [
    "def area_rectangulo(base, altura):\n",
    "    area = base * altura\n",
    "    return area\n",
    "\n",
    "def perimetro_rectangulo(base, altura):\n",
    "    perimetro = 2 * (base + altura)\n",
    "    return perimetro\n",
    "\n",
    "# Ejemplo de uso\n",
    "base = 6\n",
    "altura = 4\n",
    "\n",
    "print(\"El área del rectángulo con base {} y altura {} es: {}\".format(base, altura, area_rectangulo(base, altura)))\n",
    "print(\"El perímetro del rectángulo con base {} y altura {} es: {}\".format(base, altura, perimetro_rectangulo(base, altura)))"
   ]
  }
 ],
 "metadata": {
  "kernelspec": {
   "display_name": "Python 3",
   "language": "python",
   "name": "python3"
  },
  "language_info": {
   "codemirror_mode": {
    "name": "ipython",
    "version": 3
   },
   "file_extension": ".py",
   "mimetype": "text/x-python",
   "name": "python",
   "nbconvert_exporter": "python",
   "pygments_lexer": "ipython3",
   "version": "3.11.5"
  }
 },
 "nbformat": 4,
 "nbformat_minor": 2
}
